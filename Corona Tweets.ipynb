{
 "cells": [
  {
   "cell_type": "markdown",
   "id": "b8a790a5",
   "metadata": {},
   "source": [
    "Importing Libraries"
   ]
  },
  {
   "cell_type": "code",
   "execution_count": 1,
   "id": "8800f2b2",
   "metadata": {},
   "outputs": [],
   "source": [
    "import pandas as pd\n",
    "import pandas as np\n",
    "import matplotlib.pyplot as plt\n",
    "import seaborn as sns\n",
    "import string\n",
    "from num2words import num2words\n",
    "import unidecode\n",
    "import re\n",
    "from nltk.stem import WordNetLemmatizer\n",
    "from nltk.tokenize import word_tokenize\n",
    "from nltk.tokenize import RegexpTokenizer\n",
    "from sklearn.model_selection import train_test_split\n",
    "from sklearn.feature_extraction.text import TfidfVectorizer\n",
    "from sklearn.linear_model import LogisticRegression\n",
    "from sklearn import naive_bayes\n",
    "from sklearn.tree import DecisionTreeClassifier\n",
    "from sklearn.ensemble import RandomForestClassifier\n",
    "from sklearn.svm import LinearSVC\n",
    "from sklearn.ensemble import AdaBoostClassifier\n",
    "from sklearn.linear_model import PassiveAggressiveClassifier\n",
    "from sklearn.ensemble import GradientBoostingClassifier\n",
    "from sklearn.metrics import accuracy_score,f1_score,confusion_matrix\n",
    "from sklearn.metrics import classification_report\n",
    "from keras.models import Sequential\n",
    "from keras.layers import Dense, Dropout\n",
    "from keras.wrappers.scikit_learn import KerasClassifier\n",
    "from keras.utils import np_utils"
   ]
  },
  {
   "cell_type": "markdown",
   "id": "465cc15b",
   "metadata": {},
   "source": [
    "Reading the dataset  "
   ]
  },
  {
   "cell_type": "code",
   "execution_count": 2,
   "id": "af5b197c",
   "metadata": {},
   "outputs": [
    {
     "data": {
      "text/html": [
       "<div>\n",
       "<style scoped>\n",
       "    .dataframe tbody tr th:only-of-type {\n",
       "        vertical-align: middle;\n",
       "    }\n",
       "\n",
       "    .dataframe tbody tr th {\n",
       "        vertical-align: top;\n",
       "    }\n",
       "\n",
       "    .dataframe thead th {\n",
       "        text-align: right;\n",
       "    }\n",
       "</style>\n",
       "<table border=\"1\" class=\"dataframe\">\n",
       "  <thead>\n",
       "    <tr style=\"text-align: right;\">\n",
       "      <th></th>\n",
       "      <th>UserName</th>\n",
       "      <th>ScreenName</th>\n",
       "      <th>Location</th>\n",
       "      <th>TweetAt</th>\n",
       "      <th>OriginalTweet</th>\n",
       "      <th>Sentiment</th>\n",
       "    </tr>\n",
       "  </thead>\n",
       "  <tbody>\n",
       "    <tr>\n",
       "      <th>0</th>\n",
       "      <td>1</td>\n",
       "      <td>44954</td>\n",
       "      <td>Seattle, WA</td>\n",
       "      <td>02-03-2020</td>\n",
       "      <td>When I couldn't find hand sanitizer at Fred Me...</td>\n",
       "      <td>Positive</td>\n",
       "    </tr>\n",
       "    <tr>\n",
       "      <th>1</th>\n",
       "      <td>2</td>\n",
       "      <td>44956</td>\n",
       "      <td>Chicagoland</td>\n",
       "      <td>02-03-2020</td>\n",
       "      <td>#Panic buying hits #NewYork City as anxious sh...</td>\n",
       "      <td>Negative</td>\n",
       "    </tr>\n",
       "    <tr>\n",
       "      <th>2</th>\n",
       "      <td>3</td>\n",
       "      <td>44959</td>\n",
       "      <td>NaN</td>\n",
       "      <td>03-03-2020</td>\n",
       "      <td>Voting in the age of #coronavirus = hand sanit...</td>\n",
       "      <td>Positive</td>\n",
       "    </tr>\n",
       "    <tr>\n",
       "      <th>3</th>\n",
       "      <td>4</td>\n",
       "      <td>44963</td>\n",
       "      <td>Boksburg, South Africa</td>\n",
       "      <td>04-03-2020</td>\n",
       "      <td>Best quality couches at unbelievably low price...</td>\n",
       "      <td>Positive</td>\n",
       "    </tr>\n",
       "    <tr>\n",
       "      <th>4</th>\n",
       "      <td>5</td>\n",
       "      <td>44967</td>\n",
       "      <td>Washington, DC</td>\n",
       "      <td>04-03-2020</td>\n",
       "      <td>While we were busy watching election returns a...</td>\n",
       "      <td>Positive</td>\n",
       "    </tr>\n",
       "    <tr>\n",
       "      <th>5</th>\n",
       "      <td>6</td>\n",
       "      <td>44971</td>\n",
       "      <td>NaN</td>\n",
       "      <td>05-03-2020</td>\n",
       "      <td>That's about a week from now. A bit optimistic...</td>\n",
       "      <td>Positive</td>\n",
       "    </tr>\n",
       "    <tr>\n",
       "      <th>6</th>\n",
       "      <td>7</td>\n",
       "      <td>44973</td>\n",
       "      <td>Malta</td>\n",
       "      <td>05-03-2020</td>\n",
       "      <td>#CoronaVirus #COVID_19 People are starting to ...</td>\n",
       "      <td>Negative</td>\n",
       "    </tr>\n",
       "    <tr>\n",
       "      <th>7</th>\n",
       "      <td>8</td>\n",
       "      <td>44978</td>\n",
       "      <td>Wayne County, MI</td>\n",
       "      <td>07-03-2020</td>\n",
       "      <td>Alright yall I hope our Melanin prevails but ...</td>\n",
       "      <td>Positive</td>\n",
       "    </tr>\n",
       "    <tr>\n",
       "      <th>8</th>\n",
       "      <td>9</td>\n",
       "      <td>44979</td>\n",
       "      <td>Bondi Beach, Sydney</td>\n",
       "      <td>07-03-2020</td>\n",
       "      <td>When your usual grocery shopping @woolworths t...</td>\n",
       "      <td>Negative</td>\n",
       "    </tr>\n",
       "    <tr>\n",
       "      <th>9</th>\n",
       "      <td>10</td>\n",
       "      <td>44980</td>\n",
       "      <td>NaN</td>\n",
       "      <td>07-03-2020</td>\n",
       "      <td>Coronavirus panic spreads: Costco is pulling f...</td>\n",
       "      <td>Negative</td>\n",
       "    </tr>\n",
       "  </tbody>\n",
       "</table>\n",
       "</div>"
      ],
      "text/plain": [
       "   UserName  ScreenName                Location     TweetAt  \\\n",
       "0         1       44954             Seattle, WA  02-03-2020   \n",
       "1         2       44956             Chicagoland  02-03-2020   \n",
       "2         3       44959                     NaN  03-03-2020   \n",
       "3         4       44963  Boksburg, South Africa  04-03-2020   \n",
       "4         5       44967          Washington, DC  04-03-2020   \n",
       "5         6       44971                     NaN  05-03-2020   \n",
       "6         7       44973                   Malta  05-03-2020   \n",
       "7         8       44978        Wayne County, MI  07-03-2020   \n",
       "8         9       44979     Bondi Beach, Sydney  07-03-2020   \n",
       "9        10       44980                     NaN  07-03-2020   \n",
       "\n",
       "                                       OriginalTweet Sentiment  \n",
       "0  When I couldn't find hand sanitizer at Fred Me...  Positive  \n",
       "1  #Panic buying hits #NewYork City as anxious sh...  Negative  \n",
       "2  Voting in the age of #coronavirus = hand sanit...  Positive  \n",
       "3  Best quality couches at unbelievably low price...  Positive  \n",
       "4  While we were busy watching election returns a...  Positive  \n",
       "5  That's about a week from now. A bit optimistic...  Positive  \n",
       "6  #CoronaVirus #COVID_19 People are starting to ...  Negative  \n",
       "7  Alright yall I hope our Melanin prevails but ...  Positive  \n",
       "8  When your usual grocery shopping @woolworths t...  Negative  \n",
       "9  Coronavirus panic spreads: Costco is pulling f...  Negative  "
      ]
     },
     "execution_count": 2,
     "metadata": {},
     "output_type": "execute_result"
    }
   ],
   "source": [
    "data = pd.read_csv(\"CoronaTweetsSentimentAnalysis.csv\")\n",
    "data.head(10)"
   ]
  },
  {
   "cell_type": "markdown",
   "id": "a1436541",
   "metadata": {},
   "source": [
    "Data Properties"
   ]
  },
  {
   "cell_type": "code",
   "execution_count": 3,
   "id": "c8d4f709",
   "metadata": {},
   "outputs": [
    {
     "name": "stdout",
     "output_type": "stream",
     "text": [
      "UserName          int64\n",
      "ScreenName        int64\n",
      "Location         object\n",
      "TweetAt          object\n",
      "OriginalTweet    object\n",
      "Sentiment        object\n",
      "dtype: object\n"
     ]
    }
   ],
   "source": [
    "print(data.dtypes)"
   ]
  },
  {
   "cell_type": "code",
   "execution_count": 4,
   "id": "48b538f0",
   "metadata": {},
   "outputs": [
    {
     "name": "stdout",
     "output_type": "stream",
     "text": [
      "(1988, 6)\n"
     ]
    }
   ],
   "source": [
    "print(data.shape)"
   ]
  },
  {
   "cell_type": "code",
   "execution_count": 5,
   "id": "31005afb",
   "metadata": {},
   "outputs": [],
   "source": [
    "data.drop(['UserName','ScreenName','Location','TweetAt'],inplace=True,axis=1)"
   ]
  },
  {
   "cell_type": "markdown",
   "id": "fbe7c00b",
   "metadata": {},
   "source": [
    "Checking for null values in dataset"
   ]
  },
  {
   "cell_type": "code",
   "execution_count": 6,
   "id": "ae95a077",
   "metadata": {},
   "outputs": [
    {
     "name": "stdout",
     "output_type": "stream",
     "text": [
      "OriginalTweet    0\n",
      "Sentiment        0\n",
      "dtype: int64\n"
     ]
    }
   ],
   "source": [
    "print(data.isnull().sum())"
   ]
  },
  {
   "cell_type": "markdown",
   "id": "9c7f5567",
   "metadata": {},
   "source": [
    "Unique value in target"
   ]
  },
  {
   "cell_type": "code",
   "execution_count": 7,
   "id": "e8659d2f",
   "metadata": {},
   "outputs": [
    {
     "name": "stdout",
     "output_type": "stream",
     "text": [
      "2\n"
     ]
    }
   ],
   "source": [
    "print(data['Sentiment'].nunique())"
   ]
  },
  {
   "cell_type": "code",
   "execution_count": 8,
   "id": "e1368b79",
   "metadata": {},
   "outputs": [
    {
     "name": "stdout",
     "output_type": "stream",
     "text": [
      "['Positive' 'Negative']\n"
     ]
    }
   ],
   "source": [
    "print(data['Sentiment'].unique())"
   ]
  },
  {
   "cell_type": "markdown",
   "id": "129034fe",
   "metadata": {},
   "source": [
    "Creating hashmap to store each label and its frequency"
   ]
  },
  {
   "cell_type": "code",
   "execution_count": 9,
   "id": "4bcd5ebe",
   "metadata": {},
   "outputs": [],
   "source": [
    "dic={'Positive':0,'Negative':0}\n",
    "for i in data['Sentiment']:\n",
    "    dic[i]=dic[i]+1"
   ]
  },
  {
   "cell_type": "code",
   "execution_count": 10,
   "id": "21a60be6",
   "metadata": {},
   "outputs": [
    {
     "name": "stdout",
     "output_type": "stream",
     "text": [
      "{'Positive': 947, 'Negative': 1041}\n"
     ]
    }
   ],
   "source": [
    "print(dic)"
   ]
  },
  {
   "cell_type": "code",
   "execution_count": 11,
   "id": "e4cda6c6",
   "metadata": {},
   "outputs": [
    {
     "name": "stdout",
     "output_type": "stream",
     "text": [
      "Positive 47.64\n",
      "Negative 52.36\n"
     ]
    }
   ],
   "source": [
    "n=len(data)\n",
    "for i in data['Sentiment'].unique():\n",
    "    print(i, round((dic[i]/n)*100,2))"
   ]
  },
  {
   "cell_type": "code",
   "execution_count": 12,
   "id": "f6950f3b",
   "metadata": {},
   "outputs": [
    {
     "data": {
      "image/png": "[encoded data removed]",
      "text/plain": [
       "<Figure size 432x288 with 1 Axes>"
      ]
     },
     "metadata": {
      "needs_background": "light"
     },
     "output_type": "display_data"
    }
   ],
   "source": [
    "x=list(dic.keys())\n",
    "y=list(dic.values())\n",
    "plt.bar(range(len(dic)),y,tick_label=x,color='blue')\n",
    "plt.title('Target Sentiment Vs Frequency')\n",
    "plt.xlabel('Target Sentiment')\n",
    "plt.ylabel('Frequency')\n",
    "plt.show()"
   ]
  },
  {
   "cell_type": "markdown",
   "id": "6557660a",
   "metadata": {},
   "source": [
    "Data Pre-Processing "
   ]
  },
  {
   "cell_type": "markdown",
   "id": "6c5cdd1d",
   "metadata": {},
   "source": [
    "Converting text into lowercase"
   ]
  },
  {
   "cell_type": "code",
   "execution_count": 13,
   "id": "4d517fd6",
   "metadata": {},
   "outputs": [],
   "source": [
    "def convert_lowercase(sent):\n",
    "    sent=sent.lower()\n",
    "    return sent"
   ]
  },
  {
   "cell_type": "code",
   "execution_count": 14,
   "id": "a5053660",
   "metadata": {},
   "outputs": [],
   "source": [
    "data['OriginalTweet']=data['OriginalTweet'].apply(convert_lowercase)"
   ]
  },
  {
   "cell_type": "markdown",
   "id": "038ab1d3",
   "metadata": {},
   "source": [
    "Removing punctuations in text column"
   ]
  },
  {
   "cell_type": "code",
   "execution_count": 15,
   "id": "a7e936ad",
   "metadata": {},
   "outputs": [],
   "source": [
    "def remove_punctuation(sen):\n",
    "    for punctuations in string.punctuation:\n",
    "        sen=sen.replace(punctuations,'')\n",
    "    return sen"
   ]
  },
  {
   "cell_type": "code",
   "execution_count": 16,
   "id": "d1e735be",
   "metadata": {},
   "outputs": [],
   "source": [
    "data['OriginalTweet']=data['OriginalTweet'].apply(remove_punctuation)"
   ]
  },
  {
   "cell_type": "markdown",
   "id": "1a3f3b69",
   "metadata": {},
   "source": [
    "Convert Number to Words"
   ]
  },
  {
   "cell_type": "code",
   "execution_count": 17,
   "id": "b48cfef5",
   "metadata": {},
   "outputs": [],
   "source": [
    "def num_to_words(text):\n",
    "    # splitting text into words with space\n",
    "    after_spliting = text.split()\n",
    "\n",
    "    for index in range(len(after_spliting)):\n",
    "        if after_spliting[index].isdigit():\n",
    "            after_spliting[index] = num2words(after_spliting[index])\n",
    "\n",
    "    # joining list into string with space\n",
    "    numbers_to_words = ' '.join(after_spliting)\n",
    "    return numbers_to_words"
   ]
  },
  {
   "cell_type": "code",
   "execution_count": 18,
   "id": "bbaa2538",
   "metadata": {},
   "outputs": [],
   "source": [
    "data['OriginalTweet']=data['OriginalTweet'].apply(num_to_words)"
   ]
  },
  {
   "cell_type": "markdown",
   "id": "1ac65e91",
   "metadata": {},
   "source": [
    "Again removing punctuation due to applying number to word function, It may contain '-' between words"
   ]
  },
  {
   "cell_type": "code",
   "execution_count": 19,
   "id": "60baa1af",
   "metadata": {},
   "outputs": [],
   "source": [
    "data['OriginalTweet']=data['OriginalTweet'].apply(remove_punctuation)"
   ]
  },
  {
   "cell_type": "code",
   "execution_count": 20,
   "id": "206259d9",
   "metadata": {},
   "outputs": [
    {
     "data": {
      "text/html": [
       "<div>\n",
       "<style scoped>\n",
       "    .dataframe tbody tr th:only-of-type {\n",
       "        vertical-align: middle;\n",
       "    }\n",
       "\n",
       "    .dataframe tbody tr th {\n",
       "        vertical-align: top;\n",
       "    }\n",
       "\n",
       "    .dataframe thead th {\n",
       "        text-align: right;\n",
       "    }\n",
       "</style>\n",
       "<table border=\"1\" class=\"dataframe\">\n",
       "  <thead>\n",
       "    <tr style=\"text-align: right;\">\n",
       "      <th></th>\n",
       "      <th>OriginalTweet</th>\n",
       "      <th>Sentiment</th>\n",
       "    </tr>\n",
       "  </thead>\n",
       "  <tbody>\n",
       "    <tr>\n",
       "      <th>0</th>\n",
       "      <td>when i couldnt find hand sanitizer at fred mey...</td>\n",
       "      <td>Positive</td>\n",
       "    </tr>\n",
       "    <tr>\n",
       "      <th>1</th>\n",
       "      <td>panic buying hits newyork city as anxious shop...</td>\n",
       "      <td>Negative</td>\n",
       "    </tr>\n",
       "    <tr>\n",
       "      <th>2</th>\n",
       "      <td>voting in the age of coronavirus hand sanitize...</td>\n",
       "      <td>Positive</td>\n",
       "    </tr>\n",
       "    <tr>\n",
       "      <th>3</th>\n",
       "      <td>best quality couches at unbelievably low price...</td>\n",
       "      <td>Positive</td>\n",
       "    </tr>\n",
       "    <tr>\n",
       "      <th>4</th>\n",
       "      <td>while we were busy watching election returns a...</td>\n",
       "      <td>Positive</td>\n",
       "    </tr>\n",
       "    <tr>\n",
       "      <th>5</th>\n",
       "      <td>thats about a week from now a bit optimistic p...</td>\n",
       "      <td>Positive</td>\n",
       "    </tr>\n",
       "    <tr>\n",
       "      <th>6</th>\n",
       "      <td>coronavirus covid19 people are starting to bec...</td>\n",
       "      <td>Negative</td>\n",
       "    </tr>\n",
       "    <tr>\n",
       "      <th>7</th>\n",
       "      <td>alright yall i hope our melanin prevails but ...</td>\n",
       "      <td>Positive</td>\n",
       "    </tr>\n",
       "    <tr>\n",
       "      <th>8</th>\n",
       "      <td>when your usual grocery shopping woolworths tu...</td>\n",
       "      <td>Negative</td>\n",
       "    </tr>\n",
       "    <tr>\n",
       "      <th>9</th>\n",
       "      <td>coronavirus panic spreads costco is pulling fr...</td>\n",
       "      <td>Negative</td>\n",
       "    </tr>\n",
       "  </tbody>\n",
       "</table>\n",
       "</div>"
      ],
      "text/plain": [
       "                                       OriginalTweet Sentiment\n",
       "0  when i couldnt find hand sanitizer at fred mey...  Positive\n",
       "1  panic buying hits newyork city as anxious shop...  Negative\n",
       "2  voting in the age of coronavirus hand sanitize...  Positive\n",
       "3  best quality couches at unbelievably low price...  Positive\n",
       "4  while we were busy watching election returns a...  Positive\n",
       "5  thats about a week from now a bit optimistic p...  Positive\n",
       "6  coronavirus covid19 people are starting to bec...  Negative\n",
       "7  alright yall i hope our melanin prevails but ...  Positive\n",
       "8  when your usual grocery shopping woolworths tu...  Negative\n",
       "9  coronavirus panic spreads costco is pulling fr...  Negative"
      ]
     },
     "execution_count": 20,
     "metadata": {},
     "output_type": "execute_result"
    }
   ],
   "source": [
    "data.head(10)"
   ]
  },
  {
   "cell_type": "markdown",
   "id": "27b0fa32",
   "metadata": {},
   "source": [
    "Convert Accented Characters to ASCII Characters"
   ]
  },
  {
   "cell_type": "code",
   "execution_count": 21,
   "id": "71bc63e6",
   "metadata": {},
   "outputs": [],
   "source": [
    "def to_ascii(text):\n",
    "    text = unidecode.unidecode(text)\n",
    "    return text"
   ]
  },
  {
   "cell_type": "code",
   "execution_count": 22,
   "id": "904ec480",
   "metadata": {},
   "outputs": [],
   "source": [
    "data['OriginalTweet']=data['OriginalTweet'].apply(to_ascii)"
   ]
  },
  {
   "cell_type": "code",
   "execution_count": 23,
   "id": "d27bf28a",
   "metadata": {},
   "outputs": [
    {
     "data": {
      "text/html": [
       "<div>\n",
       "<style scoped>\n",
       "    .dataframe tbody tr th:only-of-type {\n",
       "        vertical-align: middle;\n",
       "    }\n",
       "\n",
       "    .dataframe tbody tr th {\n",
       "        vertical-align: top;\n",
       "    }\n",
       "\n",
       "    .dataframe thead th {\n",
       "        text-align: right;\n",
       "    }\n",
       "</style>\n",
       "<table border=\"1\" class=\"dataframe\">\n",
       "  <thead>\n",
       "    <tr style=\"text-align: right;\">\n",
       "      <th></th>\n",
       "      <th>OriginalTweet</th>\n",
       "      <th>Sentiment</th>\n",
       "    </tr>\n",
       "  </thead>\n",
       "  <tbody>\n",
       "    <tr>\n",
       "      <th>0</th>\n",
       "      <td>when i couldnt find hand sanitizer at fred mey...</td>\n",
       "      <td>Positive</td>\n",
       "    </tr>\n",
       "    <tr>\n",
       "      <th>1</th>\n",
       "      <td>panic buying hits newyork city as anxious shop...</td>\n",
       "      <td>Negative</td>\n",
       "    </tr>\n",
       "    <tr>\n",
       "      <th>2</th>\n",
       "      <td>voting in the age of coronavirus hand sanitize...</td>\n",
       "      <td>Positive</td>\n",
       "    </tr>\n",
       "    <tr>\n",
       "      <th>3</th>\n",
       "      <td>best quality couches at unbelievably low price...</td>\n",
       "      <td>Positive</td>\n",
       "    </tr>\n",
       "    <tr>\n",
       "      <th>4</th>\n",
       "      <td>while we were busy watching election returns a...</td>\n",
       "      <td>Positive</td>\n",
       "    </tr>\n",
       "    <tr>\n",
       "      <th>5</th>\n",
       "      <td>thats about a week from now a bit optimistic p...</td>\n",
       "      <td>Positive</td>\n",
       "    </tr>\n",
       "    <tr>\n",
       "      <th>6</th>\n",
       "      <td>coronavirus covid19 people are starting to bec...</td>\n",
       "      <td>Negative</td>\n",
       "    </tr>\n",
       "    <tr>\n",
       "      <th>7</th>\n",
       "      <td>alright yall i hope our melanin prevails but j...</td>\n",
       "      <td>Positive</td>\n",
       "    </tr>\n",
       "    <tr>\n",
       "      <th>8</th>\n",
       "      <td>when your usual grocery shopping woolworths tu...</td>\n",
       "      <td>Negative</td>\n",
       "    </tr>\n",
       "    <tr>\n",
       "      <th>9</th>\n",
       "      <td>coronavirus panic spreads costco is pulling fr...</td>\n",
       "      <td>Negative</td>\n",
       "    </tr>\n",
       "  </tbody>\n",
       "</table>\n",
       "</div>"
      ],
      "text/plain": [
       "                                       OriginalTweet Sentiment\n",
       "0  when i couldnt find hand sanitizer at fred mey...  Positive\n",
       "1  panic buying hits newyork city as anxious shop...  Negative\n",
       "2  voting in the age of coronavirus hand sanitize...  Positive\n",
       "3  best quality couches at unbelievably low price...  Positive\n",
       "4  while we were busy watching election returns a...  Positive\n",
       "5  thats about a week from now a bit optimistic p...  Positive\n",
       "6  coronavirus covid19 people are starting to bec...  Negative\n",
       "7  alright yall i hope our melanin prevails but j...  Positive\n",
       "8  when your usual grocery shopping woolworths tu...  Negative\n",
       "9  coronavirus panic spreads costco is pulling fr...  Negative"
      ]
     },
     "execution_count": 23,
     "metadata": {},
     "output_type": "execute_result"
    }
   ],
   "source": [
    "data.head(10)"
   ]
  },
  {
   "cell_type": "markdown",
   "id": "91172a55",
   "metadata": {},
   "source": [
    "Removing Stopwords from Text"
   ]
  },
  {
   "cell_type": "code",
   "execution_count": 24,
   "id": "5c3298ca",
   "metadata": {},
   "outputs": [
    {
     "name": "stderr",
     "output_type": "stream",
     "text": [
      "[nltk_data] Downloading package stopwords to\n",
      "[nltk_data]     C:\\Users\\Admin\\AppData\\Roaming\\nltk_data...\n",
      "[nltk_data]   Package stopwords is already up-to-date!\n",
      "[nltk_data] Downloading package omw-1.4 to\n",
      "[nltk_data]     C:\\Users\\Admin\\AppData\\Roaming\\nltk_data...\n",
      "[nltk_data]   Package omw-1.4 is already up-to-date!\n"
     ]
    },
    {
     "data": {
      "text/plain": [
       "True"
      ]
     },
     "execution_count": 24,
     "metadata": {},
     "output_type": "execute_result"
    }
   ],
   "source": [
    "import nltk\n",
    "nltk.download('stopwords')\n",
    "from nltk.corpus import stopwords\n",
    "stop = stopwords.words('english')\n",
    "nltk.download('omw-1.4')"
   ]
  },
  {
   "cell_type": "code",
   "execution_count": 25,
   "id": "ca5a67ea",
   "metadata": {},
   "outputs": [],
   "source": [
    "data['OriginalTweet'] = data['OriginalTweet'].apply(lambda x: ' '.join([word for word in x.split() if word not in (stop)]))"
   ]
  },
  {
   "cell_type": "markdown",
   "id": "70f6ed9d",
   "metadata": {},
   "source": [
    "Lemmetizing the text"
   ]
  },
  {
   "cell_type": "code",
   "execution_count": 26,
   "id": "4ada6b8e",
   "metadata": {},
   "outputs": [],
   "source": [
    "lemma = WordNetLemmatizer()\n",
    "def lemmatization(text):\n",
    "\n",
    "    # word tokenization\n",
    "    tokens = word_tokenize(text)\n",
    "\n",
    "    for index in range(len(tokens)):\n",
    "        # lemma word\n",
    "        lemma_word = lemma.lemmatize(tokens[index])\n",
    "        tokens[index] = lemma_word\n",
    "\n",
    "    return ' '.join(tokens)"
   ]
  },
  {
   "cell_type": "code",
   "execution_count": 27,
   "id": "d5a09631",
   "metadata": {},
   "outputs": [],
   "source": [
    "data['OriginalTweet']=data['OriginalTweet'].apply(lemmatization)"
   ]
  },
  {
   "cell_type": "code",
   "execution_count": 28,
   "id": "43b1f32d",
   "metadata": {},
   "outputs": [
    {
     "data": {
      "text/html": [
       "<div>\n",
       "<style scoped>\n",
       "    .dataframe tbody tr th:only-of-type {\n",
       "        vertical-align: middle;\n",
       "    }\n",
       "\n",
       "    .dataframe tbody tr th {\n",
       "        vertical-align: top;\n",
       "    }\n",
       "\n",
       "    .dataframe thead th {\n",
       "        text-align: right;\n",
       "    }\n",
       "</style>\n",
       "<table border=\"1\" class=\"dataframe\">\n",
       "  <thead>\n",
       "    <tr style=\"text-align: right;\">\n",
       "      <th></th>\n",
       "      <th>OriginalTweet</th>\n",
       "      <th>Sentiment</th>\n",
       "    </tr>\n",
       "  </thead>\n",
       "  <tbody>\n",
       "    <tr>\n",
       "      <th>0</th>\n",
       "      <td>couldnt find hand sanitizer fred meyer turned ...</td>\n",
       "      <td>Positive</td>\n",
       "    </tr>\n",
       "    <tr>\n",
       "      <th>1</th>\n",
       "      <td>panic buying hit newyork city anxious shopper ...</td>\n",
       "      <td>Negative</td>\n",
       "    </tr>\n",
       "    <tr>\n",
       "      <th>2</th>\n",
       "      <td>voting age coronavirus hand sanitizer supertue...</td>\n",
       "      <td>Positive</td>\n",
       "    </tr>\n",
       "    <tr>\n",
       "      <th>3</th>\n",
       "      <td>best quality couch unbelievably low price avai...</td>\n",
       "      <td>Positive</td>\n",
       "    </tr>\n",
       "    <tr>\n",
       "      <th>4</th>\n",
       "      <td>busy watching election return bracing covid19 ...</td>\n",
       "      <td>Positive</td>\n",
       "    </tr>\n",
       "    <tr>\n",
       "      <th>...</th>\n",
       "      <td>...</td>\n",
       "      <td>...</td>\n",
       "    </tr>\n",
       "    <tr>\n",
       "      <th>1983</th>\n",
       "      <td>kpiti new world busy staff say way since covid...</td>\n",
       "      <td>Positive</td>\n",
       "    </tr>\n",
       "    <tr>\n",
       "      <th>1984</th>\n",
       "      <td>even though law library closed subscriber acce...</td>\n",
       "      <td>Positive</td>\n",
       "    </tr>\n",
       "    <tr>\n",
       "      <th>1985</th>\n",
       "      <td>ricepolitics mdcounties craig call general ass...</td>\n",
       "      <td>Negative</td>\n",
       "    </tr>\n",
       "    <tr>\n",
       "      <th>1986</th>\n",
       "      <td>meanwhile supermarket israel people dance sing...</td>\n",
       "      <td>Positive</td>\n",
       "    </tr>\n",
       "    <tr>\n",
       "      <th>1987</th>\n",
       "      <td>panic buy lot nonperishable item echo need foo...</td>\n",
       "      <td>Negative</td>\n",
       "    </tr>\n",
       "  </tbody>\n",
       "</table>\n",
       "<p>1988 rows × 2 columns</p>\n",
       "</div>"
      ],
      "text/plain": [
       "                                          OriginalTweet Sentiment\n",
       "0     couldnt find hand sanitizer fred meyer turned ...  Positive\n",
       "1     panic buying hit newyork city anxious shopper ...  Negative\n",
       "2     voting age coronavirus hand sanitizer supertue...  Positive\n",
       "3     best quality couch unbelievably low price avai...  Positive\n",
       "4     busy watching election return bracing covid19 ...  Positive\n",
       "...                                                 ...       ...\n",
       "1983  kpiti new world busy staff say way since covid...  Positive\n",
       "1984  even though law library closed subscriber acce...  Positive\n",
       "1985  ricepolitics mdcounties craig call general ass...  Negative\n",
       "1986  meanwhile supermarket israel people dance sing...  Positive\n",
       "1987  panic buy lot nonperishable item echo need foo...  Negative\n",
       "\n",
       "[1988 rows x 2 columns]"
      ]
     },
     "execution_count": 28,
     "metadata": {},
     "output_type": "execute_result"
    }
   ],
   "source": [
    "data"
   ]
  },
  {
   "cell_type": "markdown",
   "id": "a862afc2",
   "metadata": {},
   "source": [
    "Label Encoding"
   ]
  },
  {
   "cell_type": "code",
   "execution_count": 29,
   "id": "8c58eeaf",
   "metadata": {},
   "outputs": [],
   "source": [
    "label={'Positive':1,'Negative':0}\n",
    "def labelencode(x):\n",
    "    return label[x]"
   ]
  },
  {
   "cell_type": "code",
   "execution_count": 30,
   "id": "ee24fc8b",
   "metadata": {},
   "outputs": [],
   "source": [
    "data['Sentiment']=data['Sentiment'].apply(labelencode)"
   ]
  },
  {
   "cell_type": "code",
   "execution_count": 31,
   "id": "c96fce60",
   "metadata": {},
   "outputs": [
    {
     "data": {
      "text/html": [
       "<div>\n",
       "<style scoped>\n",
       "    .dataframe tbody tr th:only-of-type {\n",
       "        vertical-align: middle;\n",
       "    }\n",
       "\n",
       "    .dataframe tbody tr th {\n",
       "        vertical-align: top;\n",
       "    }\n",
       "\n",
       "    .dataframe thead th {\n",
       "        text-align: right;\n",
       "    }\n",
       "</style>\n",
       "<table border=\"1\" class=\"dataframe\">\n",
       "  <thead>\n",
       "    <tr style=\"text-align: right;\">\n",
       "      <th></th>\n",
       "      <th>OriginalTweet</th>\n",
       "      <th>Sentiment</th>\n",
       "    </tr>\n",
       "  </thead>\n",
       "  <tbody>\n",
       "    <tr>\n",
       "      <th>0</th>\n",
       "      <td>couldnt find hand sanitizer fred meyer turned ...</td>\n",
       "      <td>1</td>\n",
       "    </tr>\n",
       "    <tr>\n",
       "      <th>1</th>\n",
       "      <td>panic buying hit newyork city anxious shopper ...</td>\n",
       "      <td>0</td>\n",
       "    </tr>\n",
       "    <tr>\n",
       "      <th>2</th>\n",
       "      <td>voting age coronavirus hand sanitizer supertue...</td>\n",
       "      <td>1</td>\n",
       "    </tr>\n",
       "    <tr>\n",
       "      <th>3</th>\n",
       "      <td>best quality couch unbelievably low price avai...</td>\n",
       "      <td>1</td>\n",
       "    </tr>\n",
       "    <tr>\n",
       "      <th>4</th>\n",
       "      <td>busy watching election return bracing covid19 ...</td>\n",
       "      <td>1</td>\n",
       "    </tr>\n",
       "    <tr>\n",
       "      <th>5</th>\n",
       "      <td>thats week bit optimistic probably take anothe...</td>\n",
       "      <td>1</td>\n",
       "    </tr>\n",
       "    <tr>\n",
       "      <th>6</th>\n",
       "      <td>coronavirus covid19 people starting become fri...</td>\n",
       "      <td>0</td>\n",
       "    </tr>\n",
       "    <tr>\n",
       "      <th>7</th>\n",
       "      <td>alright yall hope melanin prevails case took p...</td>\n",
       "      <td>1</td>\n",
       "    </tr>\n",
       "    <tr>\n",
       "      <th>8</th>\n",
       "      <td>usual grocery shopping woolworth turn toilet p...</td>\n",
       "      <td>0</td>\n",
       "    </tr>\n",
       "    <tr>\n",
       "      <th>9</th>\n",
       "      <td>coronavirus panic spread costco pulling free s...</td>\n",
       "      <td>0</td>\n",
       "    </tr>\n",
       "  </tbody>\n",
       "</table>\n",
       "</div>"
      ],
      "text/plain": [
       "                                       OriginalTweet  Sentiment\n",
       "0  couldnt find hand sanitizer fred meyer turned ...          1\n",
       "1  panic buying hit newyork city anxious shopper ...          0\n",
       "2  voting age coronavirus hand sanitizer supertue...          1\n",
       "3  best quality couch unbelievably low price avai...          1\n",
       "4  busy watching election return bracing covid19 ...          1\n",
       "5  thats week bit optimistic probably take anothe...          1\n",
       "6  coronavirus covid19 people starting become fri...          0\n",
       "7  alright yall hope melanin prevails case took p...          1\n",
       "8  usual grocery shopping woolworth turn toilet p...          0\n",
       "9  coronavirus panic spread costco pulling free s...          0"
      ]
     },
     "execution_count": 31,
     "metadata": {},
     "output_type": "execute_result"
    }
   ],
   "source": [
    "data.head(10)"
   ]
  },
  {
   "cell_type": "markdown",
   "id": "af14660e",
   "metadata": {},
   "source": [
    "Train Test Split"
   ]
  },
  {
   "cell_type": "code",
   "execution_count": 32,
   "id": "b6acbe74",
   "metadata": {},
   "outputs": [],
   "source": [
    "x=data['OriginalTweet']\n",
    "y=data['Sentiment']"
   ]
  },
  {
   "cell_type": "code",
   "execution_count": 33,
   "id": "107bde38",
   "metadata": {},
   "outputs": [],
   "source": [
    "x_train,x_test,y_train,y_test=train_test_split(x,y,test_size=0.3,random_state=101)"
   ]
  },
  {
   "cell_type": "markdown",
   "id": "b6469e6e",
   "metadata": {},
   "source": [
    "TF-IDF Vectorizer to Convert a text into a Vector"
   ]
  },
  {
   "cell_type": "code",
   "execution_count": 34,
   "id": "1b39ae1b",
   "metadata": {},
   "outputs": [],
   "source": [
    "tfidf_vectorizer=TfidfVectorizer(stop_words='english', max_df=0.7)\n",
    "tfidf_train=tfidf_vectorizer.fit_transform(x_train) \n",
    "tfidf_test=tfidf_vectorizer.transform(x_test)"
   ]
  },
  {
   "cell_type": "code",
   "execution_count": 35,
   "id": "984105ab",
   "metadata": {},
   "outputs": [
    {
     "data": {
      "text/plain": [
       "((1391, 6623), (597, 6623))"
      ]
     },
     "execution_count": 35,
     "metadata": {},
     "output_type": "execute_result"
    }
   ],
   "source": [
    "tfidf_train.shape,tfidf_test.shape"
   ]
  },
  {
   "cell_type": "markdown",
   "id": "5dfac1d9",
   "metadata": {},
   "source": [
    "Classification Models"
   ]
  },
  {
   "cell_type": "markdown",
   "id": "b08ae459",
   "metadata": {},
   "source": [
    "Logistics Regression"
   ]
  },
  {
   "cell_type": "code",
   "execution_count": 36,
   "id": "58e67de5",
   "metadata": {},
   "outputs": [],
   "source": [
    "lr=LogisticRegression(random_state=0)\n",
    "lr.fit(tfidf_train,y_train)\n",
    "yprediction1=lr.predict(tfidf_test)"
   ]
  },
  {
   "cell_type": "code",
   "execution_count": 37,
   "id": "2d28b0e2",
   "metadata": {},
   "outputs": [
    {
     "name": "stdout",
     "output_type": "stream",
     "text": [
      "Accuracy Percentage  0.64\n"
     ]
    }
   ],
   "source": [
    "print(\"Accuracy Percentage \",round(accuracy_score(yprediction1,y_test),2))"
   ]
  },
  {
   "cell_type": "code",
   "execution_count": 38,
   "id": "8dbf155a",
   "metadata": {},
   "outputs": [
    {
     "name": "stdout",
     "output_type": "stream",
     "text": [
      "              precision    recall  f1-score   support\n",
      "\n",
      "           0       0.73      0.65      0.68       359\n",
      "           1       0.54      0.63      0.59       238\n",
      "\n",
      "    accuracy                           0.64       597\n",
      "   macro avg       0.64      0.64      0.63       597\n",
      "weighted avg       0.65      0.64      0.64       597\n",
      "\n"
     ]
    }
   ],
   "source": [
    "print(classification_report(yprediction1, y_test))"
   ]
  },
  {
   "cell_type": "code",
   "execution_count": 39,
   "id": "1b481699",
   "metadata": {},
   "outputs": [
    {
     "data": {
      "text/plain": [
       "array([[151,  87],\n",
       "       [127, 232]], dtype=int64)"
      ]
     },
     "execution_count": 39,
     "metadata": {},
     "output_type": "execute_result"
    }
   ],
   "source": [
    "cf1 = confusion_matrix(yprediction1,y_test, labels = [1,0])\n",
    "cf1"
   ]
  },
  {
   "cell_type": "code",
   "execution_count": 40,
   "id": "b5686307",
   "metadata": {},
   "outputs": [
    {
     "data": {
      "image/png": "[encoded data removed]",
      "text/plain": [
       "<Figure size 576x432 with 2 Axes>"
      ]
     },
     "metadata": {
      "needs_background": "light"
     },
     "output_type": "display_data"
    }
   ],
   "source": [
    "x_axis_labels = [\"Positive(1)\",\"Negative(0)\"]\n",
    "y_axis_labels = [\"Positive(1)\",\"Negative(0)\"]\n",
    "\n",
    "plt.figure(figsize = (8,6))\n",
    "sns.set(font_scale=1)\n",
    "sns.heatmap(cf1, xticklabels = x_axis_labels, yticklabels = y_axis_labels, annot = True, fmt='g',annot_kws = {'size': 16})\n",
    "plt.xlabel(\"Actual Class\", fontsize = 20)\n",
    "plt.ylabel(\"Predicted Class\", fontsize = 20)\n",
    "plt.show()"
   ]
  },
  {
   "cell_type": "markdown",
   "id": "90844a27",
   "metadata": {},
   "source": [
    "Naive Bayes Classifier"
   ]
  },
  {
   "cell_type": "code",
   "execution_count": 41,
   "id": "de4d183d",
   "metadata": {},
   "outputs": [],
   "source": [
    "model_naive = naive_bayes.MultinomialNB()\n",
    "model_naive.fit(tfidf_train, y_train)\n",
    "yprediction2=model_naive.predict(tfidf_test)"
   ]
  },
  {
   "cell_type": "code",
   "execution_count": 42,
   "id": "bdb5ba41",
   "metadata": {},
   "outputs": [
    {
     "name": "stdout",
     "output_type": "stream",
     "text": [
      "Accuracy Percentage  0.62\n"
     ]
    }
   ],
   "source": [
    "print(\"Accuracy Percentage \",round(accuracy_score(yprediction2,y_test),2))"
   ]
  },
  {
   "cell_type": "code",
   "execution_count": 43,
   "id": "8699c5a1",
   "metadata": {},
   "outputs": [
    {
     "name": "stdout",
     "output_type": "stream",
     "text": [
      "              precision    recall  f1-score   support\n",
      "\n",
      "           0       0.80      0.61      0.69       415\n",
      "           1       0.42      0.65      0.51       182\n",
      "\n",
      "    accuracy                           0.62       597\n",
      "   macro avg       0.61      0.63      0.60       597\n",
      "weighted avg       0.69      0.62      0.64       597\n",
      "\n"
     ]
    }
   ],
   "source": [
    "print(classification_report(yprediction2, y_test))"
   ]
  },
  {
   "cell_type": "code",
   "execution_count": 44,
   "id": "8b1a2b30",
   "metadata": {},
   "outputs": [
    {
     "data": {
      "text/plain": [
       "array([[118,  64],\n",
       "       [160, 255]], dtype=int64)"
      ]
     },
     "execution_count": 44,
     "metadata": {},
     "output_type": "execute_result"
    }
   ],
   "source": [
    "cf2 = confusion_matrix(yprediction2,y_test, labels = [1,0])\n",
    "cf2"
   ]
  },
  {
   "cell_type": "code",
   "execution_count": 45,
   "id": "addb2a69",
   "metadata": {},
   "outputs": [
    {
     "data": {
      "image/png": "[encoded data removed]",
      "text/plain": [
       "<Figure size 576x432 with 2 Axes>"
      ]
     },
     "metadata": {},
     "output_type": "display_data"
    }
   ],
   "source": [
    "x_axis_labels = [\"Positive(1)\",\"Negative(0)\"]\n",
    "y_axis_labels = [\"Positive(1)\",\"Negative(0)\"]\n",
    "\n",
    "plt.figure(figsize = (8,6))\n",
    "sns.set(font_scale=1)\n",
    "sns.heatmap(cf2, xticklabels = x_axis_labels, yticklabels = y_axis_labels, annot = True, fmt='g',annot_kws = {'size': 16})\n",
    "plt.xlabel(\"Actual Class\", fontsize = 20)\n",
    "plt.ylabel(\"Predicted Class\", fontsize = 20)\n",
    "plt.show()"
   ]
  },
  {
   "cell_type": "markdown",
   "id": "570af187",
   "metadata": {},
   "source": [
    "Decision Tree Classifier"
   ]
  },
  {
   "cell_type": "code",
   "execution_count": 46,
   "id": "3d9ebddf",
   "metadata": {},
   "outputs": [],
   "source": [
    "dt=DecisionTreeClassifier(random_state=0)\n",
    "dt.fit(tfidf_train,y_train)\n",
    "yprediction3=dt.predict(tfidf_test)"
   ]
  },
  {
   "cell_type": "code",
   "execution_count": 47,
   "id": "60888780",
   "metadata": {},
   "outputs": [
    {
     "name": "stdout",
     "output_type": "stream",
     "text": [
      "Accuracy Percentage  0.56\n"
     ]
    }
   ],
   "source": [
    "print(\"Accuracy Percentage \",round(accuracy_score(yprediction3,y_test),2))"
   ]
  },
  {
   "cell_type": "code",
   "execution_count": 48,
   "id": "76228cc6",
   "metadata": {},
   "outputs": [
    {
     "name": "stdout",
     "output_type": "stream",
     "text": [
      "              precision    recall  f1-score   support\n",
      "\n",
      "           0       0.60      0.58      0.59       327\n",
      "           1       0.51      0.53      0.52       270\n",
      "\n",
      "    accuracy                           0.56       597\n",
      "   macro avg       0.55      0.56      0.55       597\n",
      "weighted avg       0.56      0.56      0.56       597\n",
      "\n"
     ]
    }
   ],
   "source": [
    "print(classification_report(yprediction3, y_test))"
   ]
  },
  {
   "cell_type": "code",
   "execution_count": 49,
   "id": "62fe5cfd",
   "metadata": {},
   "outputs": [
    {
     "data": {
      "text/plain": [
       "array([[142, 128],\n",
       "       [136, 191]], dtype=int64)"
      ]
     },
     "execution_count": 49,
     "metadata": {},
     "output_type": "execute_result"
    }
   ],
   "source": [
    "cf3 = confusion_matrix(yprediction3,y_test, labels = [1,0])\n",
    "cf3"
   ]
  },
  {
   "cell_type": "code",
   "execution_count": 50,
   "id": "5a2e42ce",
   "metadata": {},
   "outputs": [
    {
     "data": {
      "image/png": "[encoded data removed]",
      "text/plain": [
       "<Figure size 576x432 with 2 Axes>"
      ]
     },
     "metadata": {},
     "output_type": "display_data"
    }
   ],
   "source": [
    "x_axis_labels = [\"Positive(1)\",\"Negative(0)\"]\n",
    "y_axis_labels = [\"Positive(1)\",\"Negative(0)\"]\n",
    "\n",
    "plt.figure(figsize = (8,6))\n",
    "sns.set(font_scale=1)\n",
    "sns.heatmap(cf3, xticklabels = x_axis_labels, yticklabels = y_axis_labels, annot = True, fmt='g',annot_kws = {'size': 16})\n",
    "plt.xlabel(\"Actual Class\", fontsize = 20)\n",
    "plt.ylabel(\"Predicted Class\", fontsize = 20)\n",
    "plt.show()"
   ]
  },
  {
   "cell_type": "markdown",
   "id": "6703daa1",
   "metadata": {},
   "source": [
    "Random Forest Classifier"
   ]
  },
  {
   "cell_type": "code",
   "execution_count": 51,
   "id": "c37b99d5",
   "metadata": {},
   "outputs": [],
   "source": [
    "rf=RandomForestClassifier(n_estimators=50)\n",
    "rf.fit(tfidf_train,y_train)\n",
    "yprediction4=rf.predict(tfidf_test)"
   ]
  },
  {
   "cell_type": "code",
   "execution_count": 52,
   "id": "dd98c9d2",
   "metadata": {},
   "outputs": [
    {
     "name": "stdout",
     "output_type": "stream",
     "text": [
      "Accuracy Percentage  0.61\n"
     ]
    }
   ],
   "source": [
    "print(\"Accuracy Percentage \",round(accuracy_score(yprediction4,y_test),2))"
   ]
  },
  {
   "cell_type": "code",
   "execution_count": 53,
   "id": "1fad48d7",
   "metadata": {},
   "outputs": [
    {
     "name": "stdout",
     "output_type": "stream",
     "text": [
      "              precision    recall  f1-score   support\n",
      "\n",
      "           0       0.73      0.61      0.67       384\n",
      "           1       0.46      0.60      0.52       213\n",
      "\n",
      "    accuracy                           0.61       597\n",
      "   macro avg       0.60      0.61      0.59       597\n",
      "weighted avg       0.64      0.61      0.61       597\n",
      "\n"
     ]
    }
   ],
   "source": [
    "print(classification_report(yprediction4, y_test))"
   ]
  },
  {
   "cell_type": "code",
   "execution_count": 54,
   "id": "a71363cc",
   "metadata": {},
   "outputs": [
    {
     "data": {
      "text/plain": [
       "array([[128,  85],\n",
       "       [150, 234]], dtype=int64)"
      ]
     },
     "execution_count": 54,
     "metadata": {},
     "output_type": "execute_result"
    }
   ],
   "source": [
    "cf4 = confusion_matrix(yprediction4,y_test, labels = [1,0])\n",
    "cf4"
   ]
  },
  {
   "cell_type": "code",
   "execution_count": 55,
   "id": "102ae313",
   "metadata": {},
   "outputs": [
    {
     "data": {
      "image/png": "[encoded data removed]",
      "text/plain": [
       "<Figure size 576x432 with 2 Axes>"
      ]
     },
     "metadata": {},
     "output_type": "display_data"
    }
   ],
   "source": [
    "x_axis_labels = [\"Positive(1)\",\"Negative(0)\"]\n",
    "y_axis_labels = [\"Positive(1)\",\"Negative(0)\"]\n",
    "\n",
    "plt.figure(figsize = (8,6))\n",
    "sns.set(font_scale=1)\n",
    "sns.heatmap(cf4, xticklabels = x_axis_labels, yticklabels = y_axis_labels, annot = True, fmt='g',annot_kws = {'size': 16})\n",
    "plt.xlabel(\"Actual Class\", fontsize = 20)\n",
    "plt.ylabel(\"Predicted Class\", fontsize = 20)\n",
    "plt.show()"
   ]
  },
  {
   "cell_type": "markdown",
   "id": "7284d4dc",
   "metadata": {},
   "source": [
    "Support Vector Machine"
   ]
  },
  {
   "cell_type": "code",
   "execution_count": 56,
   "id": "99f8c587",
   "metadata": {},
   "outputs": [],
   "source": [
    "svm=LinearSVC()\n",
    "svm.fit(tfidf_train,y_train)\n",
    "yprediction5=svm.predict(tfidf_test)"
   ]
  },
  {
   "cell_type": "code",
   "execution_count": 57,
   "id": "65c57a71",
   "metadata": {},
   "outputs": [
    {
     "name": "stdout",
     "output_type": "stream",
     "text": [
      "Accuracy Percentage  0.65\n"
     ]
    }
   ],
   "source": [
    "print(\"Accuracy Percentage \",round(accuracy_score(yprediction5,y_test),2))"
   ]
  },
  {
   "cell_type": "code",
   "execution_count": 58,
   "id": "31816d43",
   "metadata": {},
   "outputs": [
    {
     "name": "stdout",
     "output_type": "stream",
     "text": [
      "              precision    recall  f1-score   support\n",
      "\n",
      "           0       0.73      0.65      0.69       359\n",
      "           1       0.55      0.64      0.59       238\n",
      "\n",
      "    accuracy                           0.65       597\n",
      "   macro avg       0.64      0.65      0.64       597\n",
      "weighted avg       0.66      0.65      0.65       597\n",
      "\n"
     ]
    }
   ],
   "source": [
    "print(classification_report(yprediction5, y_test))"
   ]
  },
  {
   "cell_type": "code",
   "execution_count": 59,
   "id": "65831f53",
   "metadata": {},
   "outputs": [
    {
     "data": {
      "text/plain": [
       "array([[153,  85],\n",
       "       [125, 234]], dtype=int64)"
      ]
     },
     "execution_count": 59,
     "metadata": {},
     "output_type": "execute_result"
    }
   ],
   "source": [
    "cf5 = confusion_matrix(yprediction5,y_test, labels = [1,0])\n",
    "cf5"
   ]
  },
  {
   "cell_type": "code",
   "execution_count": 60,
   "id": "1697b56e",
   "metadata": {},
   "outputs": [
    {
     "data": {
      "image/png": "[encoded data removed]",
      "text/plain": [
       "<Figure size 576x432 with 2 Axes>"
      ]
     },
     "metadata": {},
     "output_type": "display_data"
    }
   ],
   "source": [
    "x_axis_labels = [\"Positive(1)\",\"Negative(0)\"]\n",
    "y_axis_labels = [\"Positive(1)\",\"Negative(0)\"]\n",
    "\n",
    "plt.figure(figsize = (8,6))\n",
    "sns.set(font_scale=1)\n",
    "sns.heatmap(cf5, xticklabels = x_axis_labels, yticklabels = y_axis_labels, annot = True, fmt='g',annot_kws = {'size': 16})\n",
    "plt.xlabel(\"Actual Class\", fontsize = 20)\n",
    "plt.ylabel(\"Predicted Class\", fontsize = 20)\n",
    "plt.show()"
   ]
  },
  {
   "cell_type": "markdown",
   "id": "1b856483",
   "metadata": {},
   "source": [
    "Passive Agressive Classifier"
   ]
  },
  {
   "cell_type": "code",
   "execution_count": 61,
   "id": "9f0881d3",
   "metadata": {},
   "outputs": [],
   "source": [
    "pac=PassiveAggressiveClassifier(max_iter=50)\n",
    "pac.fit(tfidf_train,y_train)\n",
    "yprediction6=pac.predict(tfidf_test)"
   ]
  },
  {
   "cell_type": "code",
   "execution_count": 62,
   "id": "2f3bdb04",
   "metadata": {},
   "outputs": [
    {
     "name": "stdout",
     "output_type": "stream",
     "text": [
      "Accuracy Percentage  0.63\n"
     ]
    }
   ],
   "source": [
    "print(\"Accuracy Percentage \",round(accuracy_score(yprediction6,y_test),2))"
   ]
  },
  {
   "cell_type": "code",
   "execution_count": 63,
   "id": "8d04993b",
   "metadata": {},
   "outputs": [
    {
     "name": "stdout",
     "output_type": "stream",
     "text": [
      "              precision    recall  f1-score   support\n",
      "\n",
      "           0       0.70      0.64      0.67       348\n",
      "           1       0.55      0.62      0.58       249\n",
      "\n",
      "    accuracy                           0.63       597\n",
      "   macro avg       0.63      0.63      0.63       597\n",
      "weighted avg       0.64      0.63      0.64       597\n",
      "\n"
     ]
    }
   ],
   "source": [
    "print(classification_report(yprediction6, y_test))"
   ]
  },
  {
   "cell_type": "code",
   "execution_count": 64,
   "id": "5f5024fb",
   "metadata": {},
   "outputs": [
    {
     "data": {
      "text/plain": [
       "array([[154,  95],\n",
       "       [124, 224]], dtype=int64)"
      ]
     },
     "execution_count": 64,
     "metadata": {},
     "output_type": "execute_result"
    }
   ],
   "source": [
    "cf6 = confusion_matrix(yprediction6,y_test, labels = [1,0])\n",
    "cf6"
   ]
  },
  {
   "cell_type": "code",
   "execution_count": 65,
   "id": "e1163d7f",
   "metadata": {},
   "outputs": [
    {
     "data": {
      "image/png": "[encoded data removed]",
      "text/plain": [
       "<Figure size 576x432 with 2 Axes>"
      ]
     },
     "metadata": {},
     "output_type": "display_data"
    }
   ],
   "source": [
    "x_axis_labels = [\"Positive(1)\",\"Negative(0)\"]\n",
    "y_axis_labels = [\"Positive(1)\",\"Negative(0)\"]\n",
    "\n",
    "plt.figure(figsize = (8,6))\n",
    "sns.set(font_scale=1)\n",
    "sns.heatmap(cf6, xticklabels = x_axis_labels, yticklabels = y_axis_labels, annot = True, fmt='g',annot_kws = {'size': 16})\n",
    "plt.xlabel(\"Actual Class\", fontsize = 20)\n",
    "plt.ylabel(\"Predicted Class\", fontsize = 20)\n",
    "plt.show()"
   ]
  }
 ],
 "metadata": {
  "kernelspec": {
   "display_name": "Python 3 (ipykernel)",
   "language": "python",
   "name": "python3"
  },
  "language_info": {
   "codemirror_mode": {
    "name": "ipython",
    "version": 3
   },
   "file_extension": ".py",
   "mimetype": "text/x-python",
   "name": "python",
   "nbconvert_exporter": "python",
   "pygments_lexer": "ipython3",
   "version": "3.9.12"
  }
 },
 "nbformat": 4,
 "nbformat_minor": 5
}
